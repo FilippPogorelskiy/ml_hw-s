{
 "cells": [
  {
   "cell_type": "markdown",
   "metadata": {},
   "source": [
    "# Домашнее задание: оценка качества моделей классификации.\n",
    "\n",
    "Будем тренироваться интерпретировать качество моделей классификации."
   ]
  },
  {
   "cell_type": "code",
   "execution_count": 225,
   "metadata": {},
   "outputs": [
    {
     "name": "stdout",
     "output_type": "stream",
     "text": [
      "Populating the interactive namespace from numpy and matplotlib\n"
     ]
    }
   ],
   "source": [
    "import pandas as pd\n",
    "import matplotlib.pyplot as plt\n",
    "from sklearn.metrics import accuracy_score, precision_score, recall_score, confusion_matrix, f1_score\n",
    "%pylab inline"
   ]
  },
  {
   "cell_type": "markdown",
   "metadata": {},
   "source": [
    "### Задача: датасет о кредитном скоринге - 2. \n",
    "* Колонки 0, 1, ..., 13 - анонимизированные характеристики клиентов (некоторые числовые, некоторые категориальные). \n",
    "* Target - целевая переменная: 1 - выдать кредит, 0 - не выдать кредит.\n",
    "\n",
    "На этих данных было обучено три различных алгоритма классификации и получены предсказания:\n",
    "* pred1_probs - предсказанные вероятности положительного класса, полученные алгоритмом 1.\n",
    "* pred1_classes - предсказанные алгоритмом 1 классы\n",
    "* pred2_probs, pred2_classes, pred3_probs, pred3_classes - аналогичные величины для алгоритмов 2 и 3\n",
    "\n",
    "Наша задача - оценить качество каждого из трех алгоритмов и разобраться, какой из алгоритмов лучше всего работает в данной задаче."
   ]
  },
  {
   "cell_type": "code",
   "execution_count": 226,
   "metadata": {},
   "outputs": [
    {
     "data": {
      "text/html": [
       "<div>\n",
       "<style scoped>\n",
       "    .dataframe tbody tr th:only-of-type {\n",
       "        vertical-align: middle;\n",
       "    }\n",
       "\n",
       "    .dataframe tbody tr th {\n",
       "        vertical-align: top;\n",
       "    }\n",
       "\n",
       "    .dataframe thead th {\n",
       "        text-align: right;\n",
       "    }\n",
       "</style>\n",
       "<table border=\"1\" class=\"dataframe\">\n",
       "  <thead>\n",
       "    <tr style=\"text-align: right;\">\n",
       "      <th></th>\n",
       "      <th>0</th>\n",
       "      <th>1</th>\n",
       "      <th>2</th>\n",
       "      <th>3</th>\n",
       "      <th>4</th>\n",
       "      <th>5</th>\n",
       "      <th>6</th>\n",
       "      <th>7</th>\n",
       "      <th>8</th>\n",
       "      <th>9</th>\n",
       "      <th>...</th>\n",
       "      <th>11</th>\n",
       "      <th>12</th>\n",
       "      <th>13</th>\n",
       "      <th>target</th>\n",
       "      <th>pred1_probs</th>\n",
       "      <th>pred1_classes</th>\n",
       "      <th>pred2_probs</th>\n",
       "      <th>pred2_classes</th>\n",
       "      <th>pred3_probs</th>\n",
       "      <th>pred3_classes</th>\n",
       "    </tr>\n",
       "  </thead>\n",
       "  <tbody>\n",
       "    <tr>\n",
       "      <th>0</th>\n",
       "      <td>1</td>\n",
       "      <td>22.08</td>\n",
       "      <td>11.46</td>\n",
       "      <td>2</td>\n",
       "      <td>4</td>\n",
       "      <td>4</td>\n",
       "      <td>1.585</td>\n",
       "      <td>0</td>\n",
       "      <td>0</td>\n",
       "      <td>0</td>\n",
       "      <td>...</td>\n",
       "      <td>2</td>\n",
       "      <td>100</td>\n",
       "      <td>1213</td>\n",
       "      <td>0</td>\n",
       "      <td>0.506772</td>\n",
       "      <td>1</td>\n",
       "      <td>0.610853</td>\n",
       "      <td>1</td>\n",
       "      <td>0.375494</td>\n",
       "      <td>0</td>\n",
       "    </tr>\n",
       "    <tr>\n",
       "      <th>1</th>\n",
       "      <td>0</td>\n",
       "      <td>22.67</td>\n",
       "      <td>7.00</td>\n",
       "      <td>2</td>\n",
       "      <td>8</td>\n",
       "      <td>4</td>\n",
       "      <td>0.165</td>\n",
       "      <td>0</td>\n",
       "      <td>0</td>\n",
       "      <td>0</td>\n",
       "      <td>...</td>\n",
       "      <td>2</td>\n",
       "      <td>160</td>\n",
       "      <td>1</td>\n",
       "      <td>0</td>\n",
       "      <td>0.358519</td>\n",
       "      <td>0</td>\n",
       "      <td>0.185941</td>\n",
       "      <td>0</td>\n",
       "      <td>0.200975</td>\n",
       "      <td>0</td>\n",
       "    </tr>\n",
       "    <tr>\n",
       "      <th>2</th>\n",
       "      <td>0</td>\n",
       "      <td>29.58</td>\n",
       "      <td>1.75</td>\n",
       "      <td>1</td>\n",
       "      <td>4</td>\n",
       "      <td>4</td>\n",
       "      <td>1.250</td>\n",
       "      <td>0</td>\n",
       "      <td>0</td>\n",
       "      <td>0</td>\n",
       "      <td>...</td>\n",
       "      <td>2</td>\n",
       "      <td>280</td>\n",
       "      <td>1</td>\n",
       "      <td>0</td>\n",
       "      <td>0.358753</td>\n",
       "      <td>0</td>\n",
       "      <td>0.523009</td>\n",
       "      <td>1</td>\n",
       "      <td>0.160465</td>\n",
       "      <td>0</td>\n",
       "    </tr>\n",
       "    <tr>\n",
       "      <th>3</th>\n",
       "      <td>0</td>\n",
       "      <td>21.67</td>\n",
       "      <td>11.50</td>\n",
       "      <td>1</td>\n",
       "      <td>5</td>\n",
       "      <td>3</td>\n",
       "      <td>0.000</td>\n",
       "      <td>1</td>\n",
       "      <td>1</td>\n",
       "      <td>11</td>\n",
       "      <td>...</td>\n",
       "      <td>2</td>\n",
       "      <td>0</td>\n",
       "      <td>1</td>\n",
       "      <td>1</td>\n",
       "      <td>0.408729</td>\n",
       "      <td>0</td>\n",
       "      <td>0.185941</td>\n",
       "      <td>0</td>\n",
       "      <td>0.357771</td>\n",
       "      <td>0</td>\n",
       "    </tr>\n",
       "    <tr>\n",
       "      <th>4</th>\n",
       "      <td>1</td>\n",
       "      <td>20.17</td>\n",
       "      <td>8.17</td>\n",
       "      <td>2</td>\n",
       "      <td>6</td>\n",
       "      <td>4</td>\n",
       "      <td>1.960</td>\n",
       "      <td>1</td>\n",
       "      <td>1</td>\n",
       "      <td>14</td>\n",
       "      <td>...</td>\n",
       "      <td>2</td>\n",
       "      <td>60</td>\n",
       "      <td>159</td>\n",
       "      <td>1</td>\n",
       "      <td>0.480904</td>\n",
       "      <td>0</td>\n",
       "      <td>0.526646</td>\n",
       "      <td>1</td>\n",
       "      <td>0.260169</td>\n",
       "      <td>0</td>\n",
       "    </tr>\n",
       "  </tbody>\n",
       "</table>\n",
       "<p>5 rows × 21 columns</p>\n",
       "</div>"
      ],
      "text/plain": [
       "   0      1      2  3  4  5      6  7  8   9  ...  11   12    13  target  \\\n",
       "0  1  22.08  11.46  2  4  4  1.585  0  0   0  ...   2  100  1213       0   \n",
       "1  0  22.67   7.00  2  8  4  0.165  0  0   0  ...   2  160     1       0   \n",
       "2  0  29.58   1.75  1  4  4  1.250  0  0   0  ...   2  280     1       0   \n",
       "3  0  21.67  11.50  1  5  3  0.000  1  1  11  ...   2    0     1       1   \n",
       "4  1  20.17   8.17  2  6  4  1.960  1  1  14  ...   2   60   159       1   \n",
       "\n",
       "   pred1_probs  pred1_classes  pred2_probs  pred2_classes  pred3_probs  \\\n",
       "0     0.506772              1     0.610853              1     0.375494   \n",
       "1     0.358519              0     0.185941              0     0.200975   \n",
       "2     0.358753              0     0.523009              1     0.160465   \n",
       "3     0.408729              0     0.185941              0     0.357771   \n",
       "4     0.480904              0     0.526646              1     0.260169   \n",
       "\n",
       "   pred3_classes  \n",
       "0              0  \n",
       "1              0  \n",
       "2              0  \n",
       "3              0  \n",
       "4              0  \n",
       "\n",
       "[5 rows x 21 columns]"
      ]
     },
     "execution_count": 226,
     "metadata": {},
     "output_type": "execute_result"
    }
   ],
   "source": [
    "df = pd.read_csv(\"https://raw.githubusercontent.com/Murcha1990/ML_2021_january/main/%D0%97%D0%B0%D0%BD%D1%8F%D1%82%D0%B8%D0%B5%205/credit_scoring_example1.csv\")\n",
    "df.head()"
   ]
  },
  {
   "cell_type": "code",
   "execution_count": 227,
   "metadata": {},
   "outputs": [
    {
     "data": {
      "text/plain": [
       "(689, 21)"
      ]
     },
     "execution_count": 227,
     "metadata": {},
     "output_type": "execute_result"
    }
   ],
   "source": [
    "df.shape"
   ]
  },
  {
   "cell_type": "markdown",
   "metadata": {},
   "source": [
    "**Задание 1.** Проверьте target на сбалансированность по классам, сделайте вывод."
   ]
  },
  {
   "cell_type": "code",
   "execution_count": 228,
   "metadata": {},
   "outputs": [
    {
     "data": {
      "text/plain": [
       "0    382\n",
       "1    307\n",
       "Name: target, dtype: int64"
      ]
     },
     "execution_count": 228,
     "metadata": {},
     "output_type": "execute_result"
    }
   ],
   "source": [
    "#your code here\n",
    "df[\"target\"].value_counts()"
   ]
  },
  {
   "cell_type": "markdown",
   "metadata": {},
   "source": [
    "Классы не сбалансированы"
   ]
  },
  {
   "cell_type": "markdown",
   "metadata": {},
   "source": [
    "**Задание 2.** Вычислите accuracy - долю правильных ответов каждого из алгоритмов. Какой алгоритм имеет наибольшую accuracy?"
   ]
  },
  {
   "cell_type": "code",
   "execution_count": 229,
   "metadata": {},
   "outputs": [
    {
     "data": {
      "text/plain": [
       "0.6618287373004355"
      ]
     },
     "execution_count": 229,
     "metadata": {},
     "output_type": "execute_result"
    }
   ],
   "source": [
    "#1-й алгоритм\n",
    "accuracy_score(df['target'], df['pred1_classes'])"
   ]
  },
  {
   "cell_type": "code",
   "execution_count": 230,
   "metadata": {},
   "outputs": [
    {
     "data": {
      "text/plain": [
       "0.6719883889695211"
      ]
     },
     "execution_count": 230,
     "metadata": {},
     "output_type": "execute_result"
    }
   ],
   "source": [
    "#2-й алгоритм\n",
    "accuracy_score(df['target'], df['pred2_classes'])"
   ]
  },
  {
   "cell_type": "code",
   "execution_count": 231,
   "metadata": {},
   "outputs": [
    {
     "data": {
      "text/plain": [
       "0.6400580551523948"
      ]
     },
     "execution_count": 231,
     "metadata": {},
     "output_type": "execute_result"
    }
   ],
   "source": [
    "#3-й алгоритм\n",
    "accuracy_score(df['target'], df['pred3_classes'])"
   ]
  },
  {
   "cell_type": "markdown",
   "metadata": {},
   "source": [
    "2-й алгоритм имеет наибольшую долю правильных ответов(accuracy)"
   ]
  },
  {
   "cell_type": "markdown",
   "metadata": {},
   "source": [
    "**Задание 3.** Теперь вычислите точность и полноту каждого из алгоритмов."
   ]
  },
  {
   "cell_type": "code",
   "execution_count": 232,
   "metadata": {},
   "outputs": [
    {
     "name": "stdout",
     "output_type": "stream",
     "text": [
      "0.6907216494845361\n",
      "0.4364820846905538\n"
     ]
    }
   ],
   "source": [
    "#1-й алгоритм\n",
    "precision_1 = precision_score(df['target'], df['pred1_classes'])\n",
    "recall_1 = recall_score(df['target'], df['pred1_classes'])\n",
    "print(precision_1)\n",
    "print(recall_1)"
   ]
  },
  {
   "cell_type": "code",
   "execution_count": 233,
   "metadata": {},
   "outputs": [
    {
     "name": "stdout",
     "output_type": "stream",
     "text": [
      "0.6103542234332425\n",
      "0.7296416938110749\n"
     ]
    }
   ],
   "source": [
    "#1-й алгоритм\n",
    "precision_2 = precision_score(df['target'], df['pred2_classes'])\n",
    "recall_2 = recall_score(df['target'], df['pred2_classes'])\n",
    "print(precision_2)\n",
    "print(recall_2)"
   ]
  },
  {
   "cell_type": "code",
   "execution_count": 234,
   "metadata": {},
   "outputs": [
    {
     "name": "stdout",
     "output_type": "stream",
     "text": [
      "0.6903225806451613\n",
      "0.3485342019543974\n"
     ]
    }
   ],
   "source": [
    "#1-й алгоритм\n",
    "precision_3 = precision_score(df['target'], df['pred3_classes'])\n",
    "recall_3 = recall_score(df['target'], df['pred3_classes'])\n",
    "print(precision_3)\n",
    "print(recall_3)"
   ]
  },
  {
   "cell_type": "markdown",
   "metadata": {},
   "source": [
    "Самым полезным инструментом в практических задачах является ***матрица ошибок***. Смотря на неё и регулируя порог, определяющий классы, мы можем достичь оптимального решения нашей задачи.\n",
    "\n",
    "**Задание 4.** Используя функцию plot_confusion_matrix для визуализации матрицы ошибок из семинара, нарисуйте матрицы ошибок всех трех алгоритмов."
   ]
  },
  {
   "cell_type": "code",
   "execution_count": 235,
   "metadata": {},
   "outputs": [],
   "source": [
    "#your code here\n",
    "import itertools\n",
    "from sklearn.metrics import confusion_matrix\n",
    "\n",
    "def plot_confusion_matrix(cm, classes,\n",
    "                          normalize=False,\n",
    "                          title='Confusion matrix',\n",
    "                          cmap=plt.cm.Blues):\n",
    " \n",
    "    plt.imshow(cm, interpolation='nearest', cmap=cmap)\n",
    "    plt.title(title)\n",
    "    plt.colorbar()\n",
    "    tick_marks = np.arange(len(classes))\n",
    "    plt.xticks(tick_marks, classes, rotation=45)\n",
    "    plt.yticks(tick_marks, classes)\n",
    " \n",
    "    fmt = '.2f' if normalize else 'd'\n",
    "    thresh = cm.max() / 2.\n",
    "    for i, j in itertools.product(range(cm.shape[0]), range(cm.shape[1])):\n",
    "        plt.text(j, i, format(cm[i, j], fmt),\n",
    "                 horizontalalignment=\"center\",\n",
    "                 color=\"white\" if cm[i, j] > thresh else \"black\")\n",
    " \n",
    "    plt.tight_layout()\n",
    "    plt.ylabel('True label')\n",
    "    plt.xlabel('Predicted label')"
   ]
  },
  {
   "cell_type": "code",
   "execution_count": 236,
   "metadata": {},
   "outputs": [
    {
     "data": {
      "image/png": "[encoded data removed]",
      "text/plain": [
       "<Figure size 432x288 with 2 Axes>"
      ]
     },
     "metadata": {
      "needs_background": "light"
     },
     "output_type": "display_data"
    }
   ],
   "source": [
    "plot_confusion_matrix(confusion_matrix(df['target'], df['pred1_classes']), classes=['0','1'],\n",
    "                        title='Confusion matrix, without normalization')"
   ]
  },
  {
   "cell_type": "code",
   "execution_count": 237,
   "metadata": {},
   "outputs": [
    {
     "data": {
      "image/png": "[encoded data removed]",
      "text/plain": [
       "<Figure size 432x288 with 2 Axes>"
      ]
     },
     "metadata": {
      "needs_background": "light"
     },
     "output_type": "display_data"
    }
   ],
   "source": [
    "plot_confusion_matrix(confusion_matrix(df['target'], df['pred2_classes']), classes=['0','1'],\n",
    "                        title='Confusion matrix, without normalization')"
   ]
  },
  {
   "cell_type": "code",
   "execution_count": 238,
   "metadata": {},
   "outputs": [
    {
     "data": {
      "image/png": "[encoded data removed]",
      "text/plain": [
       "<Figure size 432x288 with 2 Axes>"
      ]
     },
     "metadata": {
      "needs_background": "light"
     },
     "output_type": "display_data"
    }
   ],
   "source": [
    "plot_confusion_matrix(confusion_matrix(df['target'], df['pred3_classes']), classes=['0','1'],\n",
    "                        title='Confusion matrix, without normalization')"
   ]
  },
  {
   "cell_type": "markdown",
   "metadata": {},
   "source": [
    "Давайте определимся с целями нашего предсказания:\n",
    "    \n",
    "* **Вариант 1**: хотим выдать кредит максимальному числу людей среди тех, кто мог бы его вернуть. При этом не хотим много ошибаться (общее число ошибок не более 35%).\n",
    "  \n",
    "1) Мы не хотим, чтобы алгоритм много ошибался: accuracy $\\geq$ 0.65.\n",
    "\n",
    "2) Кроме того полнота должна быть как можно больше (число в левом нижнем квадрате матрицы ошибок минимально).\n",
    "\n",
    "**Задание 5.** Для каждого алгоритма найдите такой порог принятия решения, чтобы выполнялись перечисленные выше условия. Какой максимальной полноты можно добиться у каждой из моделей при условии, что accuracy $\\geq$ 0.65?\n",
    "\n",
    "**Комментарий:** порог можно искать в цикле с небольшим шагом."
   ]
  },
  {
   "cell_type": "code",
   "execution_count": 239,
   "metadata": {},
   "outputs": [
    {
     "name": "stdout",
     "output_type": "stream",
     "text": [
      "1-й алгоритм\n",
      "Threshold = 0.36000000000000004\n",
      "Accuracy 0.6516690856313497\n",
      "Recall = 0.742671009771987\n",
      "[[221 161]\n",
      " [ 79 228]]\n"
     ]
    }
   ],
   "source": [
    "#your code here\n",
    "#1-й алгоритм\n",
    "threshold_list = []\n",
    "accuracy_list = []\n",
    "recall_list = []\n",
    "confusion_matrix_list = []\n",
    "for i in np.linspace(0.01, 1.0, 100):\n",
    "    if accuracy_score(df['target'], df['pred1_probs'] > i) >= 0.65:\n",
    "        #print(i)\n",
    "        threshold_list.append(i)\n",
    "        accuracy_1 = accuracy_score(df['target'], df['pred1_probs'] > i)\n",
    "        #print(accuracy_1)\n",
    "        accuracy_list.append(accuracy_1)\n",
    "        recall_1 = recall_score(df['target'], df['pred1_probs'] > i)\n",
    "        #print(recall_1)\n",
    "        recall_list.append(recall_1)\n",
    "        confusion_matrix_1 = confusion_matrix(df['target'], df['pred1_probs'] >i)\n",
    "        #print(confusion_matrix_1)\n",
    "        confusion_matrix_list.append(confusion_matrix_1)\n",
    "\n",
    "max_recall_index = recall_list.index(max(recall_list))\n",
    "print('1-й алгоритм')\n",
    "print('Threshold =', threshold_list[max_recall_index])\n",
    "print('Accuracy', accuracy_list[max_recall_index])\n",
    "print('Recall =', recall_list[max_recall_index])\n",
    "print(confusion_matrix_list[max_recall_index])"
   ]
  },
  {
   "cell_type": "code",
   "execution_count": 240,
   "metadata": {},
   "outputs": [
    {
     "name": "stdout",
     "output_type": "stream",
     "text": [
      "2-й алгоритм\n",
      "Threshold = 0.27\n",
      "Accuracy 0.6748911465892597\n",
      "Recall = 0.8371335504885994\n",
      "[[208 174]\n",
      " [ 50 257]]\n"
     ]
    }
   ],
   "source": [
    "#your code here\n",
    "#2-й алгоритм\n",
    "threshold_list_2 = []\n",
    "accuracy_list_2 = []\n",
    "recall_list_2 = []\n",
    "confusion_matrix_list_2 = []\n",
    "for i in np.linspace(0.01, 1.0, 100):\n",
    "    if accuracy_score(df['target'], df['pred2_probs'] > i) >= 0.65:\n",
    "        threshold_list_2.append(i)\n",
    "        accuracy_2 = accuracy_score(df['target'], df['pred2_probs'] > i)\n",
    "        accuracy_list_2.append(accuracy_2)\n",
    "        recall_2 = recall_score(df['target'], df['pred2_probs'] > i)\n",
    "        recall_list_2.append(recall_2)\n",
    "        confusion_matrix_2 = confusion_matrix(df['target'], df['pred2_probs'] >i)\n",
    "        confusion_matrix_list_2.append(confusion_matrix_2)\n",
    "\n",
    "max_recall_index_2 = recall_list_2.index(max(recall_list_2))\n",
    "print('2-й алгоритм')\n",
    "print('Threshold =', threshold_list_2[max_recall_index_2])\n",
    "print('Accuracy', accuracy_list_2[max_recall_index_2])\n",
    "print('Recall =', recall_list_2[max_recall_index_2])\n",
    "print(confusion_matrix_list_2[max_recall_index_2])"
   ]
  },
  {
   "cell_type": "code",
   "execution_count": 241,
   "metadata": {},
   "outputs": [
    {
     "name": "stdout",
     "output_type": "stream",
     "text": [
      "3-й алгоритм\n",
      "Threshold = 0.26\n",
      "Accuracy 0.6458635703918723\n",
      "Recall = 0.6091205211726385\n",
      "[[258 124]\n",
      " [120 187]]\n"
     ]
    }
   ],
   "source": [
    "#your code here\n",
    "#3-й алгоритм\n",
    "threshold_list_3 = []\n",
    "accuracy_list_3 = []\n",
    "recall_list_3 = []\n",
    "confusion_matrix_list_3 = []\n",
    "for i in np.linspace(0.01, 1.0, 100):\n",
    "    if accuracy_score(df['target'], df['pred3_probs'] > i) >= 0.645:\n",
    "        threshold_list_3.append(i)\n",
    "        accuracy_3 = accuracy_score(df['target'], df['pred3_probs'] > i)\n",
    "        accuracy_list_3.append(accuracy_3)\n",
    "        recall_3 = recall_score(df['target'], df['pred3_probs'] > i)\n",
    "        recall_list_3.append(recall_3)\n",
    "        confusion_matrix_3 = confusion_matrix(df['target'], df['pred3_probs'] >i)\n",
    "        confusion_matrix_list_3.append(confusion_matrix_3)\n",
    "\n",
    "max_recall_index_3 = recall_list_3.index(max(recall_list_3))\n",
    "print('3-й алгоритм')\n",
    "print('Threshold =', threshold_list_3[max_recall_index_3])\n",
    "print('Accuracy', accuracy_list_3[max_recall_index_3])\n",
    "print('Recall =', recall_list_3[max_recall_index_3])\n",
    "print(confusion_matrix_list_3[max_recall_index_3])"
   ]
  },
  {
   "cell_type": "markdown",
   "metadata": {},
   "source": [
    "**Задание 6.** Визуализируйте матрицу ошибок для каждого из трех алгоритмов с подобранным порогом."
   ]
  },
  {
   "cell_type": "code",
   "execution_count": 242,
   "metadata": {},
   "outputs": [
    {
     "data": {
      "image/png": "[encoded data removed]",
      "text/plain": [
       "<Figure size 432x288 with 2 Axes>"
      ]
     },
     "metadata": {
      "needs_background": "light"
     },
     "output_type": "display_data"
    }
   ],
   "source": [
    "#your code here\n",
    "#1-й алгоритм\n",
    "plot_confusion_matrix(confusion_matrix(df['target'], df['pred1_probs'] > 0.36), classes=['0','1'],\n",
    "                        title='Confusion matrix, without normalization')"
   ]
  },
  {
   "cell_type": "code",
   "execution_count": 243,
   "metadata": {},
   "outputs": [
    {
     "data": {
      "image/png": "[encoded data removed]",
      "text/plain": [
       "<Figure size 432x288 with 2 Axes>"
      ]
     },
     "metadata": {
      "needs_background": "light"
     },
     "output_type": "display_data"
    }
   ],
   "source": [
    "#your code here\n",
    "#2-й алгоритм\n",
    "plot_confusion_matrix(confusion_matrix(df['target'], df['pred2_probs'] > 0.27), classes=['0','1'],\n",
    "                        title='Confusion matrix, without normalization')"
   ]
  },
  {
   "cell_type": "code",
   "execution_count": 244,
   "metadata": {},
   "outputs": [
    {
     "data": {
      "image/png": "[encoded data removed]",
      "text/plain": [
       "<Figure size 432x288 with 2 Axes>"
      ]
     },
     "metadata": {
      "needs_background": "light"
     },
     "output_type": "display_data"
    }
   ],
   "source": [
    "#3-й алгоритм\n",
    "plot_confusion_matrix(confusion_matrix(df['target'], df['pred3_probs'] > 0.26), classes=['0','1'],\n",
    "                        title='Confusion matrix, without normalization')"
   ]
  },
  {
   "cell_type": "markdown",
   "metadata": {},
   "source": [
    "**Выводы:** здесь напишите, какая модель лучше всего справилась с поставленной задачей."
   ]
  },
  {
   "cell_type": "markdown",
   "metadata": {},
   "source": [
    "Вторая модель лучше справилась с задачей. Полнота больше, чем у первой"
   ]
  },
  {
   "cell_type": "markdown",
   "metadata": {},
   "source": [
    "Наша цель может звучать и по-другому:\n",
    "    \n",
    "* **Вариант 2**: среди тех, кому модель выдает кредит, должно быть меньше всего ошибок (мало людей, кто его на самом деле не вернет - на них будем терять деньги). \n",
    "    При этом не хотим много ошибаться (общее число ошибок не более 35%).\n",
    "  \n",
    "1) Мы не хотим, чтобы алгоритм много ошибался: accuracy $\\geq$ 0.65.\n",
    "\n",
    "2) Кроме того точность должна быть как можно больше (число в правом верхнем квадрате матрицы ошибок минимально).\n",
    "\n",
    "**Задание 7.** Для каждого алгоритма найдите порог принятия решения, чтобы выполнялись перечисленные выше условия. Какой максимальной точности можно добиться у каждой из моделей при условии, что accuracy $\\geq$ 0.65? "
   ]
  },
  {
   "cell_type": "code",
   "execution_count": 245,
   "metadata": {},
   "outputs": [
    {
     "name": "stdout",
     "output_type": "stream",
     "text": [
      "1-й алгоритм\n",
      "Threshold = 0.54\n",
      "Accuracy = 0.6618287373004355\n",
      "Precision = 0.7371794871794872\n",
      "[[341  41]\n",
      " [192 115]]\n"
     ]
    }
   ],
   "source": [
    "#1-й алгоритм\n",
    "threshold_list = []\n",
    "accuracy_list = []\n",
    "precision_list = []\n",
    "confusion_matrix_list = []\n",
    "for i in np.linspace(0.01, 1.0, 100):\n",
    "    if accuracy_score(df['target'], df['pred1_probs'] > i) >= 0.65:\n",
    "        #print(i)\n",
    "        threshold_list.append(i)\n",
    "        accuracy_1 = accuracy_score(df['target'], df['pred1_probs'] > i)\n",
    "        #print(accuracy_1)\n",
    "        accuracy_list.append(accuracy_1)\n",
    "        precision_1 = precision_score(df['target'], df['pred1_probs'] > i)\n",
    "        #print(precision_1)\n",
    "        precision_list.append(precision_1)\n",
    "        confusion_matrix_1 = confusion_matrix(df['target'], df['pred1_probs'] >i)\n",
    "        #print(confusion_matrix_1)\n",
    "        confusion_matrix_list.append(confusion_matrix_1)\n",
    "\n",
    "max_precision_index = precision_list.index(max(precision_list))\n",
    "print('1-й алгоритм')\n",
    "print('Threshold =', threshold_list[max_precision_index])\n",
    "print('Accuracy =', accuracy_list[max_precision_index])\n",
    "print('Precision =', precision_list[max_precision_index])\n",
    "print(confusion_matrix_list[max_precision_index])"
   ]
  },
  {
   "cell_type": "code",
   "execution_count": 246,
   "metadata": {},
   "outputs": [
    {
     "name": "stdout",
     "output_type": "stream",
     "text": [
      "2-й алгоритм\n",
      "Threshold = 0.73\n",
      "Accuracy = 0.6502177068214804\n",
      "Precision = 0.8367346938775511\n",
      "[[366  16]\n",
      " [225  82]]\n"
     ]
    }
   ],
   "source": [
    "#2-й алгоритм\n",
    "threshold_list_2 = []\n",
    "accuracy_list_2 = []\n",
    "precision_list_2 = []\n",
    "confusion_matrix_list_2 = []\n",
    "for i in np.linspace(0.01, 1.0, 100):\n",
    "    if accuracy_score(df['target'], df['pred2_probs'] > i) >= 0.65:\n",
    "        #print(i)\n",
    "        threshold_list_2.append(i)\n",
    "        accuracy_2 = accuracy_score(df['target'], df['pred2_probs'] > i)\n",
    "        #print(accuracy_1)\n",
    "        accuracy_list_2.append(accuracy_2)\n",
    "        precision_2 = precision_score(df['target'], df['pred2_probs'] > i)\n",
    "        #print(precision_1)\n",
    "        precision_list_2.append(precision_2)\n",
    "        confusion_matrix_2 = confusion_matrix(df['target'], df['pred2_probs'] >i)\n",
    "        #print(confusion_matrix_1)\n",
    "        confusion_matrix_list_2.append(confusion_matrix_2)\n",
    "\n",
    "max_precision_index_2 = precision_list_2.index(max(precision_list_2))\n",
    "print('2-й алгоритм')\n",
    "print('Threshold =', threshold_list_2[max_precision_index_2])\n",
    "print('Accuracy =', accuracy_list_2[max_precision_index_2])\n",
    "print('Precision =', precision_list_2[max_precision_index_2])\n",
    "print(confusion_matrix_list_2[max_precision_index_2])"
   ]
  },
  {
   "cell_type": "code",
   "execution_count": 247,
   "metadata": {},
   "outputs": [
    {
     "name": "stdout",
     "output_type": "stream",
     "text": [
      "3-й алгоритм\n",
      "Threshold = 0.56\n",
      "Accuracy = 0.6415094339622641\n",
      "Precision = 0.7142857142857143\n",
      "[[342  40]\n",
      " [207 100]]\n"
     ]
    }
   ],
   "source": [
    "#3-й алгоритм\n",
    "threshold_list_3 = []\n",
    "accuracy_list_3 = []\n",
    "precision_list_3 = []\n",
    "confusion_matrix_list_3 = []\n",
    "for i in np.linspace(0.01, 1.0, 100):\n",
    "    if accuracy_score(df['target'], df['pred3_probs'] > i) >= 0.64:\n",
    "        #print(i)\n",
    "        threshold_list_3.append(i)\n",
    "        accuracy_3 = accuracy_score(df['target'], df['pred3_probs'] > i)\n",
    "        #print(accuracy_1)\n",
    "        accuracy_list_3.append(accuracy_3)\n",
    "        precision_3 = precision_score(df['target'], df['pred3_probs'] > i)\n",
    "        #print(precision_1)\n",
    "        precision_list_3.append(precision_3)\n",
    "        confusion_matrix_3 = confusion_matrix(df['target'], df['pred3_probs'] >i)\n",
    "        #print(confusion_matrix_1)\n",
    "        confusion_matrix_list_3.append(confusion_matrix_3)\n",
    "\n",
    "max_precision_index_3 = precision_list_3.index(max(precision_list_3))\n",
    "print('3-й алгоритм')\n",
    "print('Threshold =', threshold_list_3[max_precision_index_3])\n",
    "print('Accuracy =', accuracy_list_3[max_precision_index_3])\n",
    "print('Precision =', precision_list_3[max_precision_index_3])\n",
    "print(confusion_matrix_list_3[max_precision_index_3])"
   ]
  },
  {
   "cell_type": "markdown",
   "metadata": {},
   "source": [
    "**Задание 8.** Нарисуйте матрицы ошибок для каждого из алгоритмов с найденными значениями порога. Какая модель лучше всех справилась с этой задачей?"
   ]
  },
  {
   "cell_type": "code",
   "execution_count": 248,
   "metadata": {},
   "outputs": [
    {
     "data": {
      "image/png": "[encoded data removed]",
      "text/plain": [
       "<Figure size 432x288 with 2 Axes>"
      ]
     },
     "metadata": {
      "needs_background": "light"
     },
     "output_type": "display_data"
    }
   ],
   "source": [
    "#your code here\n",
    "plot_confusion_matrix(confusion_matrix(df['target'], df['pred1_probs'] > 0.54), classes=['0','1'],\n",
    "                        title='Confusion matrix, without normalization')"
   ]
  },
  {
   "cell_type": "code",
   "execution_count": 249,
   "metadata": {},
   "outputs": [
    {
     "data": {
      "image/png": "[encoded data removed]",
      "text/plain": [
       "<Figure size 432x288 with 2 Axes>"
      ]
     },
     "metadata": {
      "needs_background": "light"
     },
     "output_type": "display_data"
    }
   ],
   "source": [
    "plot_confusion_matrix(confusion_matrix(df['target'], df['pred2_probs'] > 0.73), classes=['0','1'],\n",
    "                        title='Confusion matrix, without normalization')"
   ]
  },
  {
   "cell_type": "code",
   "execution_count": 250,
   "metadata": {},
   "outputs": [
    {
     "data": {
      "image/png": "[encoded data removed]",
      "text/plain": [
       "<Figure size 432x288 with 2 Axes>"
      ]
     },
     "metadata": {
      "needs_background": "light"
     },
     "output_type": "display_data"
    }
   ],
   "source": [
    "plot_confusion_matrix(confusion_matrix(df['target'], df['pred3_probs'] > 0.56), classes=['0','1'],\n",
    "                        title='Confusion matrix, without normalization')"
   ]
  },
  {
   "cell_type": "markdown",
   "metadata": {},
   "source": [
    "Также (**Вариант 3**) можно потребовать, чтобы и точность, и полнота были высокими, то есть обе ошибки в матрице ошибок были маленькие. Как вариант - можно максимизировать F1-score (среднее гармоническое между точностью и полнотой).\n",
    "\n",
    "**Задание 9.** Найдите пороги для достижения максимального F1-score для каждой из трех моделей и нарисуйте матрицы ошибок. Какая модель решает поставленную задачу лучше остальных?"
   ]
  },
  {
   "cell_type": "code",
   "execution_count": 252,
   "metadata": {},
   "outputs": [
    {
     "name": "stdout",
     "output_type": "stream",
     "text": [
      "1-й алгоритм\n",
      "Threshold = 0.36000000000000004\n",
      "F1 = 0.6551724137931035\n",
      "Accuracy = 0.6516690856313497\n",
      "Recall = 0.742671009771987\n",
      "Precision = 0.5861182519280206\n",
      "[[221 161]\n",
      " [ 79 228]]\n"
     ]
    }
   ],
   "source": [
    "#your code here\n",
    "#1-й алгоритм\n",
    "threshold_list = []\n",
    "f1_list = []\n",
    "accuracy_list = []\n",
    "recall_list = []\n",
    "precision_list = []\n",
    "confusion_matrix_list = []\n",
    "for i in np.linspace(0.01, 1.0, 100):\n",
    "    if accuracy_score(df['target'], df['pred1_probs'] > i) >= 0.65:\n",
    "        #print(i)\n",
    "        threshold_list.append(i)\n",
    "        f1_1 = f1_score(df['target'], df['pred1_probs'] > i)\n",
    "        f1_list.append(f1_1)\n",
    "        accuracy_1 = accuracy_score(df['target'], df['pred1_probs'] > i)\n",
    "        #print(accuracy_1)\n",
    "        accuracy_list.append(accuracy_1)\n",
    "        recall_1 = recall_score(df['target'], df['pred1_probs'] > i)\n",
    "        #print(recall_1)\n",
    "        recall_list.append(recall_1)\n",
    "        precision_1 = precision_score(df['target'], df['pred1_probs'] > i)\n",
    "        #print(precision_1)\n",
    "        precision_list.append(precision_1)\n",
    "        confusion_matrix_1 = confusion_matrix(df['target'], df['pred1_probs'] >i)\n",
    "        #print(confusion_matrix_1)\n",
    "        confusion_matrix_list.append(confusion_matrix_1)\n",
    "\n",
    "max_f1_index = f1_list.index(max(f1_list))\n",
    "print('1-й алгоритм')\n",
    "print('Threshold =', threshold_list[max_f1_index])\n",
    "print('F1 =', f1_list[max_f1_index])\n",
    "print('Accuracy =', accuracy_list[max_f1_index])\n",
    "print('Recall =', recall_list[max_f1_index])\n",
    "print('Precision =', precision_list[max_f1_index])\n",
    "print(confusion_matrix_list[max_f1_index])"
   ]
  },
  {
   "cell_type": "code",
   "execution_count": 253,
   "metadata": {},
   "outputs": [
    {
     "name": "stdout",
     "output_type": "stream",
     "text": [
      "2-й алгоритм\n",
      "Threshold = 0.32\n",
      "F1 = 0.6990291262135923\n",
      "Accuracy = 0.6850507982583455\n",
      "Recall = 0.8208469055374593\n",
      "Precision = 0.6086956521739131\n",
      "[[220 162]\n",
      " [ 55 252]]\n"
     ]
    }
   ],
   "source": [
    "#your code here\n",
    "#2-й алгоритм\n",
    "threshold_list_2 = []\n",
    "f1_list_2 = []\n",
    "accuracy_list_2 = []\n",
    "recall_list_2 = []\n",
    "precision_list_2 = []\n",
    "confusion_matrix_list_2 = []\n",
    "for i in np.linspace(0.01, 1.0, 100):\n",
    "    if accuracy_score(df['target'], df['pred2_probs'] > i) >= 0.65:\n",
    "        #print(i)\n",
    "        threshold_list_2.append(i)\n",
    "        f1_2 = f1_score(df['target'], df['pred2_probs'] > i)\n",
    "        f1_list_2.append(f1_2)\n",
    "        accuracy_2 = accuracy_score(df['target'], df['pred2_probs'] > i)\n",
    "        #print(accuracy_1)\n",
    "        accuracy_list_2.append(accuracy_2)\n",
    "        recall_2 = recall_score(df['target'], df['pred2_probs'] > i)\n",
    "        #print(recall_1)\n",
    "        recall_list_2.append(recall_2)\n",
    "        precision_2 = precision_score(df['target'], df['pred2_probs'] > i)\n",
    "        #print(precision_1)\n",
    "        precision_list_2.append(precision_2)\n",
    "        confusion_matrix_2 = confusion_matrix(df['target'], df['pred2_probs'] >i)\n",
    "        #print(confusion_matrix_1)\n",
    "        confusion_matrix_list_2.append(confusion_matrix_2)\n",
    "\n",
    "max_f1_index_2 = f1_list_2.index(max(f1_list_2))\n",
    "print('2-й алгоритм')\n",
    "print('Threshold =', threshold_list_2[max_f1_index_2])\n",
    "print('F1 =', f1_list_2[max_f1_index_2])\n",
    "print('Accuracy =', accuracy_list_2[max_f1_index_2])\n",
    "print('Recall =', recall_list_2[max_f1_index_2])\n",
    "print('Precision =', precision_list_2[max_f1_index_2])\n",
    "print(confusion_matrix_list_2[max_f1_index_2])"
   ]
  },
  {
   "cell_type": "code",
   "execution_count": 254,
   "metadata": {},
   "outputs": [
    {
     "name": "stdout",
     "output_type": "stream",
     "text": [
      "3-й алгоритм\n",
      "Threshold = 0.26\n",
      "F1 = 0.6051779935275081\n",
      "Accuracy = 0.6458635703918723\n",
      "Recall = 0.6091205211726385\n",
      "Precision = 0.6012861736334405\n",
      "[[258 124]\n",
      " [120 187]]\n"
     ]
    }
   ],
   "source": [
    "#your code here\n",
    "#3-й алгоритм\n",
    "threshold_list_3 = []\n",
    "f1_list_3 = []\n",
    "accuracy_list_3 = []\n",
    "recall_list_3 = []\n",
    "precision_list_3 = []\n",
    "confusion_matrix_list_3 = []\n",
    "for i in np.linspace(0.01, 1.0, 100):\n",
    "    if accuracy_score(df['target'], df['pred3_probs'] > i) >= 0.645:\n",
    "        #print(i)\n",
    "        threshold_list_3.append(i)\n",
    "        f1_3 = f1_score(df['target'], df['pred3_probs'] > i)\n",
    "        f1_list_3.append(f1_3)\n",
    "        accuracy_3 = accuracy_score(df['target'], df['pred3_probs'] > i)\n",
    "        #print(accuracy_1)\n",
    "        accuracy_list_3.append(accuracy_3)\n",
    "        recall_3 = recall_score(df['target'], df['pred3_probs'] > i)\n",
    "        #print(recall_1)\n",
    "        recall_list_3.append(recall_3)\n",
    "        precision_3 = precision_score(df['target'], df['pred3_probs'] > i)\n",
    "        #print(precision_1)\n",
    "        precision_list_3.append(precision_3)\n",
    "        confusion_matrix_3 = confusion_matrix(df['target'], df['pred3_probs'] >i)\n",
    "        #print(confusion_matrix_1)\n",
    "        confusion_matrix_list_3.append(confusion_matrix_3)\n",
    "\n",
    "max_f1_index_3 = f1_list_3.index(max(f1_list_3))\n",
    "print('3-й алгоритм')\n",
    "print('Threshold =', threshold_list_3[max_f1_index_3])\n",
    "print('F1 =', f1_list_3[max_f1_index_3])\n",
    "print('Accuracy =', accuracy_list_3[max_f1_index_3])\n",
    "print('Recall =', recall_list_3[max_f1_index_3])\n",
    "print('Precision =', precision_list_3[max_f1_index_3])\n",
    "print(confusion_matrix_list_3[max_f1_index_3])"
   ]
  },
  {
   "cell_type": "markdown",
   "metadata": {},
   "source": [
    "### Вывод"
   ]
  },
  {
   "cell_type": "markdown",
   "metadata": {},
   "source": [
    "2-ой алгоритм решает лучше всех поставленную задачу. Его значения F1, accuracy и recall больше, чем у 1-го и 3-го алгоритмов."
   ]
  },
  {
   "cell_type": "markdown",
   "metadata": {},
   "source": [
    "#### Кстати\n",
    "\n",
    "В python есть удобная функция classification_report, которая выводит значения нескольких метрик."
   ]
  },
  {
   "cell_type": "code",
   "execution_count": 255,
   "metadata": {},
   "outputs": [
    {
     "name": "stdout",
     "output_type": "stream",
     "text": [
      "              precision    recall  f1-score   support\n",
      "\n",
      "           0       0.65      0.84      0.73       382\n",
      "           1       0.69      0.44      0.53       307\n",
      "\n",
      "    accuracy                           0.66       689\n",
      "   macro avg       0.67      0.64      0.63       689\n",
      "weighted avg       0.67      0.66      0.65       689\n",
      "\n"
     ]
    }
   ],
   "source": [
    "from sklearn.metrics import classification_report\n",
    "\n",
    "print(classification_report(df['target'],df['pred1_classes']))"
   ]
  },
  {
   "cell_type": "markdown",
   "metadata": {},
   "source": [
    "### Обучим свою модель для предсказания target.\n",
    "\n",
    "**Задание 10.** Отнормируйте признаки в задаче и обучите линейную регрессию предсказывать target."
   ]
  },
  {
   "cell_type": "code",
   "execution_count": 256,
   "metadata": {},
   "outputs": [],
   "source": [
    "#your code here\n",
    "from sklearn.model_selection import train_test_split\n",
    "from sklearn.linear_model import LinearRegression\n",
    "from sklearn.preprocessing import StandardScaler"
   ]
  },
  {
   "cell_type": "code",
   "execution_count": 257,
   "metadata": {},
   "outputs": [],
   "source": [
    "X = df[df.columns[:-7]]\n",
    "y = df[\"target\"]"
   ]
  },
  {
   "cell_type": "code",
   "execution_count": 258,
   "metadata": {},
   "outputs": [],
   "source": [
    "X_train, X_test, y_train, y_test = train_test_split(X, y, test_size=0.3, random_state=123)"
   ]
  },
  {
   "cell_type": "code",
   "execution_count": 259,
   "metadata": {},
   "outputs": [],
   "source": [
    "scaler = StandardScaler()\n",
    "\n",
    "scaler.fit(X_train)\n",
    "\n",
    "X_train = scaler.transform(X_train)\n",
    "X_test = scaler.transform(X_test)"
   ]
  },
  {
   "cell_type": "code",
   "execution_count": 260,
   "metadata": {},
   "outputs": [
    {
     "data": {
      "text/plain": [
       "LinearRegression()"
      ]
     },
     "execution_count": 260,
     "metadata": {},
     "output_type": "execute_result"
    }
   ],
   "source": [
    "regressor = LinearRegression()\n",
    "regressor.fit(X_train, y_train)"
   ]
  },
  {
   "cell_type": "code",
   "execution_count": 261,
   "metadata": {},
   "outputs": [
    {
     "name": "stdout",
     "output_type": "stream",
     "text": [
      "[ 7.46316203e-01  9.14446800e-01  7.38362254e-01 -8.57033976e-02\n",
      "  4.93914432e-01  8.61421644e-01  1.92699504e-01  7.10284519e-01\n",
      "  9.04054074e-01  7.38775805e-01  6.30890624e-01 -6.40248005e-02\n",
      "  7.36356297e-01  1.18715848e-01 -4.29198771e-02 -1.57807552e-01\n",
      " -3.25981544e-02  2.45588302e-01  7.41483347e-01  8.81024500e-01\n",
      "  6.54972635e-01  7.50845743e-01  8.49890860e-01 -9.40835580e-03\n",
      "  9.17322578e-01  9.20474602e-02 -7.69699170e-02  6.54525132e-01\n",
      "  7.48649052e-01  1.36938286e-01  7.41573859e-02  1.24171080e-02\n",
      "  7.07243678e-01  6.79341949e-02  8.39455723e-01  1.09793000e+00\n",
      "  6.49186768e-02 -1.07497477e-01  6.97935176e-01  8.97806882e-01\n",
      "  8.89648588e-01  2.00010636e-01  6.06969245e-01  7.35824014e-01\n",
      "  7.99409058e-02  4.28042986e-02  6.81931857e-01  1.03240501e+00\n",
      "  6.37120862e-01  8.76225508e-01  8.87263202e-01  1.03795980e+00\n",
      "  7.04681309e-01  9.87960878e-01  5.90669774e-02  9.77869758e-01\n",
      "  6.10761583e-01  9.45702186e-01  9.14023511e-01  8.64562069e-01\n",
      "  3.50513721e-02  1.11229018e-01  3.06004711e-02 -5.77064009e-02\n",
      "  6.82310707e-01  7.47727891e-01  7.70232038e-01  8.18374778e-01\n",
      "  7.57917145e-01  8.23468840e-01  6.72668905e-01  9.91485785e-01\n",
      "  2.54556976e-01  8.75888994e-01  8.80754443e-01  8.31183308e-01\n",
      "  9.71321759e-01  8.75191825e-01  6.36564151e-01  2.07512519e-02\n",
      " -4.62502931e-02  1.01289689e+00  8.98901261e-01  7.64319211e-01\n",
      "  5.90415052e-01  8.79002509e-01  6.86810469e-01 -7.74659639e-02\n",
      "  6.96676257e-02  6.21995963e-01  1.39865150e-01  1.84977724e-01\n",
      "  5.92205038e-01 -1.31155688e-02  6.84173601e-01  5.98129403e-02\n",
      "  3.54510441e-02  1.02604994e+00  2.19749782e-02  1.12905871e-01\n",
      "  1.07164405e-01  6.84710656e-01  8.66514526e-01  3.44487940e-02\n",
      "  4.91055448e-02  9.58602805e-02  6.93465318e-01  1.36774313e+00\n",
      " -3.62760239e-02  8.80905416e-02  9.03108598e-01  3.24871932e-02\n",
      "  6.19120744e-01  1.56210055e-02  6.29514671e-01  8.36657301e-01\n",
      "  8.06868399e-01  1.04828180e-01  7.79848508e-01  1.56747349e-02\n",
      "  7.02742680e-01 -4.41247030e-02  2.36307618e-01  1.96321986e-01\n",
      "  7.51079761e-01  9.69209553e-01  5.04987269e-01  1.94611574e-01\n",
      " -3.48528073e-02  2.04040175e-02  9.15864866e-01  7.53380380e-01\n",
      "  9.01407264e-02  6.55572795e-01  8.51542030e-01  1.34315231e-01\n",
      "  8.76807285e-01  7.82168640e-01  1.06320841e+00 -6.86454253e-02\n",
      " -4.05085071e-02  9.52896743e-01  6.68709432e-01  1.31301376e-01\n",
      "  1.22641228e-01  1.75786073e-01  4.57902022e-02 -5.83203770e-03\n",
      "  6.60389409e-01  2.33663665e-01  9.66773416e-01  7.27059434e-01\n",
      "  8.75260048e-01  1.56726484e-02  7.89225862e-01 -3.67411631e-02\n",
      "  7.27704748e-01 -4.18453999e-02  5.95356676e-01  7.36843532e-01\n",
      "  1.09098958e-01  2.16780310e-01  2.67944098e-02  1.30763333e-01\n",
      "  1.55618126e-01  7.04810516e-02  7.13241418e-01  6.43250227e-01\n",
      "  7.11857050e-01  6.85158624e-01  2.70832918e-02  1.93176377e-01\n",
      "  6.18360129e-02  1.70387980e-02  7.98648374e-01  7.38169317e-01\n",
      "  7.53300649e-02  6.44987122e-01  2.51930644e-01  9.08217197e-01\n",
      "  1.07993660e+00  7.99083060e-01 -9.29011155e-02  7.63045751e-01\n",
      "  1.26438006e+00  1.09950789e+00  7.48950019e-04  8.93067622e-01\n",
      "  4.86182954e-02  7.97939455e-01  9.07096894e-01  1.48104518e-01\n",
      "  8.93203160e-01  1.16276878e-01  8.90596476e-01  4.41859673e-02\n",
      "  3.22347281e-02  7.86978502e-01 -4.97515788e-02  2.96459890e-01\n",
      "  6.87306638e-01  8.59009596e-01  8.23624743e-01  9.67307830e-01\n",
      "  8.52354029e-01  8.28429690e-01  4.42617520e-01]\n"
     ]
    }
   ],
   "source": [
    "y_pred = regressor.predict(X_test)\n",
    "print(y_pred)"
   ]
  },
  {
   "cell_type": "markdown",
   "metadata": {},
   "source": [
    "**Задание 11.** Подберите порог для перевода предсказания в классы, чтобы максимизировать:\n",
    "    а) точность \n",
    "    б) полноту \n",
    "    в) f1-score. \n",
    "Лучше ли линейная регрессия справилась с задачей, чем три готовые модели, предсказания которых мы анализировали выше?"
   ]
  },
  {
   "cell_type": "code",
   "execution_count": 262,
   "metadata": {},
   "outputs": [
    {
     "name": "stdout",
     "output_type": "stream",
     "text": [
      "Линейная регрессия\n",
      "Threshold = 0.68\n",
      "F1 = 0.8541666666666667\n",
      "Accuracy = 0.8647342995169082\n",
      "Recall = 0.8723404255319149\n",
      "Precision = 0.8367346938775511\n",
      "[[97 16]\n",
      " [12 82]]\n"
     ]
    }
   ],
   "source": [
    "threshold_list = []\n",
    "f1_list = []\n",
    "accuracy_list = []\n",
    "recall_list = []\n",
    "precision_list = []\n",
    "confusion_matrix_list = []\n",
    "for i in np.linspace(0.01, 1.0, 100):\n",
    "    if accuracy_score(y_test, y_pred > i) >= 0.65:\n",
    "        threshold_list.append(i)\n",
    "        f1 = f1_score(y_test, y_pred > i)\n",
    "        f1_list.append(f1)\n",
    "        accuracy = accuracy_score(y_test, y_pred > i)\n",
    "        accuracy_list.append(accuracy)\n",
    "        recall = recall_score(y_test, y_pred > i)\n",
    "        recall_list.append(recall)\n",
    "        precision = precision_score(y_test, y_pred > i)\n",
    "        precision_list.append(precision)\n",
    "        cfm = confusion_matrix(y_test, y_pred > i)\n",
    "        confusion_matrix_list.append(cfm)\n",
    "\n",
    "max_f1_index = f1_list.index(max(f1_list))\n",
    "print('Линейная регрессия')\n",
    "print('Threshold =', threshold_list[max_f1_index])\n",
    "print('F1 =', f1_list[max_f1_index])\n",
    "print('Accuracy =', accuracy_list[max_f1_index])\n",
    "print('Recall =', recall_list[max_f1_index])\n",
    "print('Precision =', precision_list[max_f1_index])\n",
    "print(confusion_matrix_list[max_f1_index])"
   ]
  },
  {
   "cell_type": "code",
   "execution_count": 263,
   "metadata": {},
   "outputs": [
    {
     "name": "stdout",
     "output_type": "stream",
     "text": [
      "Линейная регрессия\n",
      "Threshold = 0.05\n",
      "F1 = 0.7315175097276264\n",
      "Accuracy = 0.6666666666666666\n",
      "Recall = 1.0\n",
      "Precision = 0.5766871165644172\n",
      "[[44 69]\n",
      " [ 0 94]]\n"
     ]
    }
   ],
   "source": [
    "threshold_list = []\n",
    "f1_list = []\n",
    "accuracy_list = []\n",
    "recall_list = []\n",
    "precision_list = []\n",
    "confusion_matrix_list = []\n",
    "for i in np.linspace(0.01, 1.0, 100):\n",
    "    if accuracy_score(y_test, y_pred > i) >= 0.65:\n",
    "        threshold_list.append(i)\n",
    "        f1 = f1_score(y_test, y_pred > i)\n",
    "        f1_list.append(f1)\n",
    "        accuracy = accuracy_score(y_test, y_pred > i)\n",
    "        accuracy_list.append(accuracy)\n",
    "        recall = recall_score(y_test, y_pred > i)\n",
    "        recall_list.append(recall)\n",
    "        precision = precision_score(y_test, y_pred > i)\n",
    "        precision_list.append(precision)\n",
    "        cfm = confusion_matrix(y_test, y_pred > i)\n",
    "        confusion_matrix_list.append(cfm)\n",
    "\n",
    "max_recall_index = recall_list.index(max(recall_list))\n",
    "print('Линейная регрессия')\n",
    "print('Threshold =', threshold_list[max_recall_index])\n",
    "print('F1 =', f1_list[max_recall_index])\n",
    "print('Accuracy =', accuracy_list[max_recall_index])\n",
    "print('Recall =', recall_list[max_recall_index])\n",
    "print('Precision =', precision_list[max_recall_index])\n",
    "print(confusion_matrix_list[max_recall_index])"
   ]
  },
  {
   "cell_type": "code",
   "execution_count": 264,
   "metadata": {},
   "outputs": [
    {
     "name": "stdout",
     "output_type": "stream",
     "text": [
      "Линейная регрессия\n",
      "Threshold = 0.89\n",
      "F1 = 0.5079365079365079\n",
      "Accuracy = 0.7004830917874396\n",
      "Recall = 0.3404255319148936\n",
      "Precision = 1.0\n",
      "[[113   0]\n",
      " [ 62  32]]\n"
     ]
    }
   ],
   "source": [
    "threshold_list = []\n",
    "f1_list = []\n",
    "accuracy_list = []\n",
    "recall_list = []\n",
    "precision_list = []\n",
    "confusion_matrix_list = []\n",
    "for i in np.linspace(0.01, 1.0, 100):\n",
    "    if accuracy_score(y_test, y_pred > i) >= 0.65:\n",
    "        threshold_list.append(i)\n",
    "        f1 = f1_score(y_test, y_pred > i)\n",
    "        f1_list.append(f1)\n",
    "        accuracy = accuracy_score(y_test, y_pred > i)\n",
    "        accuracy_list.append(accuracy)\n",
    "        recall = recall_score(y_test, y_pred > i)\n",
    "        recall_list.append(recall)\n",
    "        precision = precision_score(y_test, y_pred > i)\n",
    "        precision_list.append(precision)\n",
    "        cfm = confusion_matrix(y_test, y_pred > i)\n",
    "        confusion_matrix_list.append(cfm)\n",
    "\n",
    "max_precision_index = precision_list.index(max(precision_list))\n",
    "print('Линейная регрессия')\n",
    "print('Threshold =', threshold_list[max_precision_index])\n",
    "print('F1 =', f1_list[max_precision_index])\n",
    "print('Accuracy =', accuracy_list[max_precision_index])\n",
    "print('Recall =', recall_list[max_precision_index])\n",
    "print('Precision =', precision_list[max_precision_index])\n",
    "print(confusion_matrix_list[max_precision_index])"
   ]
  },
  {
   "cell_type": "markdown",
   "metadata": {},
   "source": [
    "### Вывод"
   ]
  },
  {
   "cell_type": "markdown",
   "metadata": {},
   "source": [
    "Линейная регрессия справилась лучше, чем три готовые модели. Если максимизировать f1 , то мы получаем точность и полноту выше, чем у второй модели из задания, у которой были наилучшие показатели полноты и точности из 3х моделей"
   ]
  },
  {
   "cell_type": "code",
   "execution_count": null,
   "metadata": {},
   "outputs": [],
   "source": []
  }
 ],
 "metadata": {
  "kernelspec": {
   "display_name": "Python 3",
   "language": "python",
   "name": "python3"
  },
  "language_info": {
   "codemirror_mode": {
    "name": "ipython",
    "version": 3
   },
   "file_extension": ".py",
   "mimetype": "text/x-python",
   "name": "python",
   "nbconvert_exporter": "python",
   "pygments_lexer": "ipython3",
   "version": "3.8.5"
  }
 },
 "nbformat": 4,
 "nbformat_minor": 2
}
